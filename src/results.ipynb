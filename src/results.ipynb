{
 "cells": [
  {
   "cell_type": "markdown",
   "metadata": {},
   "source": [
    "Определяем вспомогательные функции"
   ]
  },
  {
   "cell_type": "code",
   "execution_count": 32,
   "metadata": {
    "collapsed": true
   },
   "outputs": [],
   "source": [
    "import pydotplus\n",
    "import matplotlib.pyplot as plt\n",
    "import numpy as np\n",
    "from sklearn import tree\n",
    "from sklearn import metrics\n",
    "from sklearn.model_selection import cross_val_score\n",
    "\n",
    "def plot(data, labels, column_1_number, column_2_number, title):\n",
    "    X = np.array(data)[:, column_1_number]\n",
    "    Y = np.array(data)[:, column_2_number]\n",
    "    cs = [labels[i] for i in range(len(labels))]\n",
    "    plt.scatter(X, Y, c=cs, s=15)\n",
    "    plt.xlim(0)\n",
    "    plt.ylim(0)\n",
    "    plt.title(title)\n",
    "    plt.show()\n",
    "\n",
    "def load_dataset(file, data_columns, target_column):\n",
    "    x = np.genfromtxt(file, delimiter=',', dtype=float, skip_header=True, usecols=data_columns)\n",
    "    y = np.genfromtxt(file, delimiter=',', dtype=float, skip_header=True, usecols=target_column)\n",
    "    return x, y\n",
    "\n",
    "def decision_tree_save(clf, iris, file, colorize=False):\n",
    "    dot_data = tree.export_graphviz(clf, out_file=None,\n",
    "                                    feature_names=iris['feature_names'],\n",
    "                                    class_names=iris['target_names'],\n",
    "                                    filled=True,\n",
    "                                    rounded=True,\n",
    "                                    special_characters=True)\n",
    "    graph = pydotplus.graph_from_dot_data(dot_data)\n",
    "    nodes = graph.get_node_list()\n",
    "\n",
    "    if colorize:\n",
    "        for node in nodes:\n",
    "            if node.get_label():\n",
    "                class_name = node.get_label().split('class = ')[1].split('>')[0]\n",
    "                if class_name == 'High frequency':\n",
    "                    node.set_fillcolor('#FF0000')\n",
    "                elif class_name == 'Middle frequency':\n",
    "                    node.set_fillcolor('#FFA200')\n",
    "                elif class_name == 'Low frequency':\n",
    "                    node.set_fillcolor('#058900')\n",
    "\n",
    "    graph.write_pdf(file)\n",
    "\n",
    "def draw_roc_curve(classes, y_test, y_score):\n",
    "    fpr = dict()\n",
    "    tpr = dict()\n",
    "    roc_auc = dict()\n",
    "    for i in range(classes):\n",
    "        fpr[i], tpr[i], _ = metrics.roc_curve(y_test[:, i], y_score[:, i])\n",
    "        roc_auc[i] = metrics.auc(fpr[i], tpr[i])\n",
    "        plt.plot(fpr[i], tpr[i], label='ROC curve of class {0} (area = {1:0.2f})'\n",
    "                                       ''.format(i, roc_auc[i]))\n",
    "\n",
    "    plt.plot([0, 1], [0, 1], 'k--')\n",
    "    plt.xlim([0.0, 1.0])\n",
    "    plt.ylim([0.0, 1.05])\n",
    "    plt.xlabel('False Positive Rate')\n",
    "    plt.ylabel('True Positive Rate')\n",
    "    plt.title('ROC curves')\n",
    "    plt.legend(loc=\"lower right\")\n",
    "    plt.show()\n",
    "\n",
    "def draw_cross_val_score(clf, X, Y, cv, scalled=False):\n",
    "    t = cross_val_score(clf, X, Y, cv=cv)\n",
    "    plt.plot(range(cv), t, 'k--')\n",
    "    if scalled:\n",
    "        plt.xlim([0.0, 1.0])\n",
    "        plt.ylim([0.0, 1.0])\n",
    "    plt.title('Cross-validation result')\n",
    "    plt.show()"
   ]
  },
  {
   "cell_type": "markdown",
   "metadata": {},
   "source": [
    "Подключаем необохдимые фичи scikit learn (в т. ч. используемый классификатор)"
   ]
  },
  {
   "cell_type": "code",
   "execution_count": 33,
   "metadata": {
    "collapsed": true
   },
   "outputs": [],
   "source": [
    "from sklearn.tree import DecisionTreeClassifier\n",
    "from sklearn.model_selection import train_test_split\n",
    "from sklearn.preprocessing import label_binarize"
   ]
  },
  {
   "cell_type": "markdown",
   "metadata": {},
   "source": [
    "Конфигурируем, описываем data-set"
   ]
  },
  {
   "cell_type": "code",
   "execution_count": 34,
   "metadata": {
    "collapsed": true
   },
   "outputs": [],
   "source": [
    "dataset_file = '../data/cars.csv'\n",
    "target_column = 8\n",
    "iris = {\n",
    "    'feature_names': ['Car', 'Price', 'Experience', 'Car age', 'Gender', 'Ownership type', 'Vehicle class', 'Annual mileage'],\n",
    "    'target_names': ['High frequency', 'Middle frequency', 'Low frequency']\n",
    "}"
   ]
  },
  {
   "cell_type": "markdown",
   "metadata": {},
   "source": [
    "Загружаем data-set"
   ]
  },
  {
   "cell_type": "code",
   "execution_count": 35,
   "metadata": {
    "collapsed": true
   },
   "outputs": [],
   "source": [
    "X, Y = load_dataset(dataset_file, tuple(range(len(iris['feature_names']))), (target_column,))\n",
    "Y_binarized = label_binarize(Y, classes=range(len(iris['target_names'])))\n",
    "n_classes = Y_binarized.shape[1]"
   ]
  },
  {
   "cell_type": "markdown",
   "metadata": {},
   "source": [
    "Разделяем выборку на train и test в пропорции 10% / 90%"
   ]
  },
  {
   "cell_type": "code",
   "execution_count": 36,
   "metadata": {
    "collapsed": true
   },
   "outputs": [],
   "source": [
    "X_train, X_test, y_train, y_test = train_test_split(X, Y_binarized, test_size=0.9)"
   ]
  },
  {
   "cell_type": "markdown",
   "metadata": {},
   "source": [
    "Берем decision tree классификатор и обучаем его по train выборке"
   ]
  },
  {
   "cell_type": "code",
   "execution_count": 37,
   "metadata": {
    "collapsed": true
   },
   "outputs": [],
   "source": [
    "clf = DecisionTreeClassifier().fit(X_train, y_train)"
   ]
  },
  {
   "cell_type": "markdown",
   "metadata": {},
   "source": [
    "Визуализируем дерево решений, которое сформировал классификатор, и сохраняем в pdf-файл"
   ]
  },
  {
   "cell_type": "code",
   "execution_count": 38,
   "metadata": {
    "collapsed": true
   },
   "outputs": [],
   "source": [
    "decision_tree_save(clf, iris, \"decision_tree.pdf\")"
   ]
  },
  {
   "cell_type": "markdown",
   "metadata": {
    "collapsed": true
   },
   "source": [
    "Предсказываем target-значения по выборке, опираясь на обученный ранее алгоритм (делаем выбор по дереву решений)"
   ]
  },
  {
   "cell_type": "code",
   "execution_count": 39,
   "metadata": {
    "collapsed": true
   },
   "outputs": [],
   "source": [
    "y_score = clf.predict(X_test)"
   ]
  },
  {
   "cell_type": "markdown",
   "metadata": {},
   "source": [
    "Строим ROC-кривые для оценки качества классификации (по всем классам)"
   ]
  },
  {
   "cell_type": "code",
   "execution_count": 40,
   "metadata": {},
   "outputs": [
    {
     "data": {
      "image/png": "[encoded data removed]",
      "text/plain": [
       "<matplotlib.figure.Figure at 0x7fc4472187d0>"
      ]
     },
     "metadata": {},
     "output_type": "display_data"
    }
   ],
   "source": [
    "draw_roc_curve(n_classes, y_test, y_score)"
   ]
  },
  {
   "cell_type": "markdown",
   "metadata": {},
   "source": [
    "Делаем кросс-валидацию с указанным кол-вом разбиений и показываем на графике средние ошибки"
   ]
  },
  {
   "cell_type": "code",
   "execution_count": 41,
   "metadata": {},
   "outputs": [
    {
     "data": {
      "image/png": "[encoded data removed]",
      "text/plain": [
       "<matplotlib.figure.Figure at 0x7fc446eca250>"
      ]
     },
     "metadata": {},
     "output_type": "display_data"
    }
   ],
   "source": [
    "draw_cross_val_score(clf, X, Y_binarized, cv=10)"
   ]
  },
  {
   "cell_type": "code",
   "execution_count": null,
   "metadata": {
    "collapsed": true
   },
   "outputs": [],
   "source": [
    ""
   ]
  }
 ],
 "metadata": {
  "kernelspec": {
   "display_name": "Python 2",
   "language": "python",
   "name": "python2"
  },
  "language_info": {
   "codemirror_mode": {
    "name": "ipython",
    "version": 2.0
   },
   "file_extension": ".py",
   "mimetype": "text/x-python",
   "name": "python",
   "nbconvert_exporter": "python",
   "pygments_lexer": "ipython2",
   "version": "2.7.12"
  }
 },
 "nbformat": 4,
 "nbformat_minor": 0
}